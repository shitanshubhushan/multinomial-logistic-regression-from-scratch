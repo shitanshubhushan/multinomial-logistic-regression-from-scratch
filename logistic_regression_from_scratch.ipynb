{
 "cells": [
  {
   "cell_type": "code",
   "execution_count": 1,
   "metadata": {},
   "outputs": [],
   "source": [
    "import pandas as pd\n",
    "import numpy as np\n",
    "from sklearn.model_selection import train_test_split\n",
    "from sklearn.linear_model import LogisticRegression\n",
    "from sklearn.metrics import accuracy_score, classification_report"
   ]
  },
  {
   "cell_type": "code",
   "execution_count": 2,
   "metadata": {},
   "outputs": [],
   "source": [
    "# Load the dataset\n",
    "file_path = 'data/fashion-mnist_test.csv'\n",
    "data = pd.read_csv(file_path)\n",
    "\n",
    "# Split into train and val\n",
    "X = data.drop(columns=['label'])\n",
    "y = data['label']\n",
    "\n",
    "# Split the data into training and testing sets\n",
    "X_train, X_val, y_train, y_val = train_test_split(X, y, test_size=0.2, random_state=42, stratify=y)\n"
   ]
  },
  {
   "cell_type": "markdown",
   "metadata": {},
   "source": [
    "## Sklearn Logistic Regression"
   ]
  },
  {
   "cell_type": "code",
   "execution_count": 3,
   "metadata": {},
   "outputs": [
    {
     "name": "stdout",
     "output_type": "stream",
     "text": [
      "accuracy = 0.758\n",
      "              precision    recall  f1-score   support\n",
      "\n",
      "           0       0.68      0.65      0.67       200\n",
      "           1       0.94      0.95      0.95       200\n",
      "           2       0.57      0.59      0.58       200\n",
      "           3       0.84      0.73      0.78       200\n",
      "           4       0.65      0.63      0.64       200\n",
      "           5       0.88      0.82      0.85       200\n",
      "           6       0.47      0.53      0.50       200\n",
      "           7       0.83      0.89      0.86       200\n",
      "           8       0.90      0.90      0.90       200\n",
      "           9       0.85      0.88      0.87       200\n",
      "\n",
      "    accuracy                           0.76      2000\n",
      "   macro avg       0.76      0.76      0.76      2000\n",
      "weighted avg       0.76      0.76      0.76      2000\n",
      "\n"
     ]
    },
    {
     "name": "stderr",
     "output_type": "stream",
     "text": [
      "/Library/Frameworks/Python.framework/Versions/3.11/lib/python3.11/site-packages/sklearn/linear_model/_logistic.py:460: ConvergenceWarning: lbfgs failed to converge (status=1):\n",
      "STOP: TOTAL NO. of ITERATIONS REACHED LIMIT.\n",
      "\n",
      "Increase the number of iterations (max_iter) or scale the data as shown in:\n",
      "    https://scikit-learn.org/stable/modules/preprocessing.html\n",
      "Please also refer to the documentation for alternative solver options:\n",
      "    https://scikit-learn.org/stable/modules/linear_model.html#logistic-regression\n",
      "  n_iter_i = _check_optimize_result(\n"
     ]
    }
   ],
   "source": [
    "# Initialize Logistic Regression\n",
    "log_reg = LogisticRegression(max_iter=500, solver='lbfgs', multi_class='multinomial', random_state=42)\n",
    "log_reg.fit(X_train, y_train)\n",
    "\n",
    "# Predict on the validation set\n",
    "y_pred = log_reg.predict(X_val)\n",
    "\n",
    "# Calculate accuracy and display classification report\n",
    "print(f\"accuracy = {accuracy_score(y_val, y_pred)}\")\n",
    "print(classification_report(y_val, y_pred))"
   ]
  },
  {
   "cell_type": "markdown",
   "metadata": {},
   "source": [
    "# Multinomial Logistic Regression from Scratch"
   ]
  },
  {
   "cell_type": "markdown",
   "metadata": {},
   "source": [
    "## Gradient Descent"
   ]
  },
  {
   "cell_type": "code",
   "execution_count": 4,
   "metadata": {},
   "outputs": [],
   "source": [
    "X_train = X_train.to_numpy().astype(float)\n",
    "X_val = X_val.to_numpy().astype(float)\n",
    "y_train = y_train.to_numpy()\n",
    "y_val = y_val.to_numpy()"
   ]
  },
  {
   "cell_type": "code",
   "execution_count": 5,
   "metadata": {},
   "outputs": [],
   "source": [
    "num_classes = 10\n",
    "alpha = 0.0005\n",
    "N = X_train.shape[0]\n",
    "M = X_train.shape[1]\n",
    "num_itrs=500\n",
    "W = np.zeros((num_classes, M), dtype=X_train.dtype)\n",
    "Identity_matrix = np.eye(num_classes, dtype=W.dtype)\n",
    "\n",
    "for i in range(num_itrs):\n",
    "    delta_W = np.zeros((num_classes, M), dtype=W.dtype)\n",
    "    # Calculate posterior\n",
    "    scores = np.dot(X_train, W.T)\n",
    "    exp_scores_adjusted = np.exp(scores - np.max(scores, axis=1, keepdims=True)) # For numerical stability\n",
    "    probs = exp_scores_adjusted / np.sum(exp_scores_adjusted, axis=1, keepdims=True)\n",
    "    for j in range(N):\n",
    "        delta_W += np.outer((Identity_matrix[y_train[j]] - probs[j]),X_train[j])\n",
    "    delta_W = -1 * delta_W\n",
    "    W = W - alpha*delta_W"
   ]
  },
  {
   "cell_type": "code",
   "execution_count": 6,
   "metadata": {},
   "outputs": [],
   "source": [
    "# Calculate prediction on X_val\n",
    "scores = np.dot(X_val, W.T)\n",
    "exp_scores_adjusted = np.exp(scores - np.max(scores, axis=1, keepdims=True)) # For numerical stability\n",
    "probs = exp_scores_adjusted / np.sum(exp_scores_adjusted, axis=1, keepdims=True)\n",
    "y_pred = (np.argmax(probs, axis=1)).reshape(-1,1)"
   ]
  },
  {
   "cell_type": "code",
   "execution_count": 7,
   "metadata": {},
   "outputs": [
    {
     "name": "stdout",
     "output_type": "stream",
     "text": [
      "accuracy = 0.776\n",
      "              precision    recall  f1-score   support\n",
      "\n",
      "           0       0.71      0.77      0.73       200\n",
      "           1       0.97      0.94      0.95       200\n",
      "           2       0.47      0.89      0.62       200\n",
      "           3       0.72      0.85      0.78       200\n",
      "           4       0.74      0.36      0.49       200\n",
      "           5       0.92      0.91      0.91       200\n",
      "           6       0.89      0.24      0.38       200\n",
      "           7       0.91      0.88      0.89       200\n",
      "           8       0.87      0.98      0.92       200\n",
      "           9       0.92      0.94      0.93       200\n",
      "\n",
      "    accuracy                           0.78      2000\n",
      "   macro avg       0.81      0.78      0.76      2000\n",
      "weighted avg       0.81      0.78      0.76      2000\n",
      "\n"
     ]
    }
   ],
   "source": [
    "# Calculate accuracy and display classification report\n",
    "print(f\"accuracy = {accuracy_score(y_val, y_pred)}\")\n",
    "print(classification_report(y_val, y_pred))"
   ]
  }
 ],
 "metadata": {
  "kernelspec": {
   "display_name": "Python 3",
   "language": "python",
   "name": "python3"
  },
  "language_info": {
   "codemirror_mode": {
    "name": "ipython",
    "version": 3
   },
   "file_extension": ".py",
   "mimetype": "text/x-python",
   "name": "python",
   "nbconvert_exporter": "python",
   "pygments_lexer": "ipython3",
   "version": "3.11.5"
  }
 },
 "nbformat": 4,
 "nbformat_minor": 2
}
